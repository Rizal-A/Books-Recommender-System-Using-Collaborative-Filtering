{
 "cells": [
  {
   "cell_type": "code",
   "execution_count": 15,
   "id": "222f5134",
   "metadata": {},
   "outputs": [],
   "source": [
    "import pandas as pd\n",
    "import numpy as np\n",
    "import seaborn as sns\n",
    "import matplotlib.pyplot as plt\n",
    "%matplotlib inline\n",
    "import warnings\n",
    "warnings.filterwarnings('ignore')"
   ]
  },
  {
   "cell_type": "markdown",
   "id": "c2a91276",
   "metadata": {},
   "source": [
    "# Load Data"
   ]
  },
  {
   "cell_type": "code",
   "execution_count": 33,
   "id": "4afa6e48",
   "metadata": {
    "scrolled": false
   },
   "outputs": [
    {
     "name": "stderr",
     "output_type": "stream",
     "text": [
      "Skipping line 6452: expected 8 fields, saw 9\n",
      "Skipping line 43667: expected 8 fields, saw 10\n",
      "Skipping line 51751: expected 8 fields, saw 9\n",
      "\n",
      "Skipping line 92038: expected 8 fields, saw 9\n",
      "Skipping line 104319: expected 8 fields, saw 9\n",
      "Skipping line 121768: expected 8 fields, saw 9\n",
      "\n",
      "Skipping line 144058: expected 8 fields, saw 9\n",
      "Skipping line 150789: expected 8 fields, saw 9\n",
      "Skipping line 157128: expected 8 fields, saw 9\n",
      "Skipping line 180189: expected 8 fields, saw 9\n",
      "Skipping line 185738: expected 8 fields, saw 9\n",
      "\n",
      "Skipping line 209388: expected 8 fields, saw 9\n",
      "Skipping line 220626: expected 8 fields, saw 9\n",
      "Skipping line 227933: expected 8 fields, saw 11\n",
      "Skipping line 228957: expected 8 fields, saw 10\n",
      "Skipping line 245933: expected 8 fields, saw 9\n",
      "Skipping line 251296: expected 8 fields, saw 9\n",
      "Skipping line 259941: expected 8 fields, saw 9\n",
      "Skipping line 261529: expected 8 fields, saw 9\n",
      "\n"
     ]
    }
   ],
   "source": [
    "book = pd.read_csv('books_data/books.csv', encoding='latin-1', sep=';', \n",
    "                    error_bad_lines=False)\n",
    "rating = pd.read_csv('books_data/ratings.csv', encoding='latin-1', sep=';', \n",
    "                    error_bad_lines=False)\n",
    "user = pd.read_csv('books_data/users.csv', encoding='latin-1', sep=';', \n",
    "                    error_bad_lines=False)"
   ]
  },
  {
   "cell_type": "markdown",
   "id": "2681f33a",
   "metadata": {},
   "source": [
    "# Data Understanding"
   ]
  },
  {
   "cell_type": "markdown",
   "id": "a862980c",
   "metadata": {},
   "source": [
    "## Book Dataset"
   ]
  },
  {
   "cell_type": "code",
   "execution_count": 41,
   "id": "4c1532cf",
   "metadata": {
    "scrolled": false
   },
   "outputs": [
    {
     "data": {
      "text/html": [
       "<div>\n",
       "<style scoped>\n",
       "    .dataframe tbody tr th:only-of-type {\n",
       "        vertical-align: middle;\n",
       "    }\n",
       "\n",
       "    .dataframe tbody tr th {\n",
       "        vertical-align: top;\n",
       "    }\n",
       "\n",
       "    .dataframe thead th {\n",
       "        text-align: right;\n",
       "    }\n",
       "</style>\n",
       "<table border=\"1\" class=\"dataframe\">\n",
       "  <thead>\n",
       "    <tr style=\"text-align: right;\">\n",
       "      <th></th>\n",
       "      <th>ISBN</th>\n",
       "      <th>title</th>\n",
       "      <th>author</th>\n",
       "      <th>year release</th>\n",
       "      <th>publisher</th>\n",
       "      <th>img_url</th>\n",
       "    </tr>\n",
       "  </thead>\n",
       "  <tbody>\n",
       "    <tr>\n",
       "      <th>0</th>\n",
       "      <td>0195153448</td>\n",
       "      <td>Classical Mythology</td>\n",
       "      <td>Mark P. O. Morford</td>\n",
       "      <td>2002</td>\n",
       "      <td>Oxford University Press</td>\n",
       "      <td>http://images.amazon.com/images/P/0195153448.0...</td>\n",
       "    </tr>\n",
       "    <tr>\n",
       "      <th>1</th>\n",
       "      <td>0002005018</td>\n",
       "      <td>Clara Callan</td>\n",
       "      <td>Richard Bruce Wright</td>\n",
       "      <td>2001</td>\n",
       "      <td>HarperFlamingo Canada</td>\n",
       "      <td>http://images.amazon.com/images/P/0002005018.0...</td>\n",
       "    </tr>\n",
       "  </tbody>\n",
       "</table>\n",
       "</div>"
      ],
      "text/plain": [
       "         ISBN                title                author year release  \\\n",
       "0  0195153448  Classical Mythology    Mark P. O. Morford         2002   \n",
       "1  0002005018         Clara Callan  Richard Bruce Wright         2001   \n",
       "\n",
       "                 publisher                                            img_url  \n",
       "0  Oxford University Press  http://images.amazon.com/images/P/0195153448.0...  \n",
       "1    HarperFlamingo Canada  http://images.amazon.com/images/P/0002005018.0...  "
      ]
     },
     "execution_count": 41,
     "metadata": {},
     "output_type": "execute_result"
    }
   ],
   "source": [
    "book.head(2)"
   ]
  },
  {
   "cell_type": "code",
   "execution_count": 70,
   "id": "553ad0f9",
   "metadata": {},
   "outputs": [
    {
     "name": "stdout",
     "output_type": "stream",
     "text": [
      "<class 'pandas.core.frame.DataFrame'>\n",
      "RangeIndex: 271360 entries, 0 to 271359\n",
      "Data columns (total 6 columns):\n",
      " #   Column        Non-Null Count   Dtype \n",
      "---  ------        --------------   ----- \n",
      " 0   ISBN          271360 non-null  object\n",
      " 1   title         271360 non-null  object\n",
      " 2   author        271359 non-null  object\n",
      " 3   year release  271360 non-null  object\n",
      " 4   publisher     271358 non-null  object\n",
      " 5   img_url       271357 non-null  object\n",
      "dtypes: object(6)\n",
      "memory usage: 12.4+ MB\n"
     ]
    }
   ],
   "source": [
    "book.info()"
   ]
  },
  {
   "cell_type": "code",
   "execution_count": 35,
   "id": "50bc6629",
   "metadata": {},
   "outputs": [
    {
     "data": {
      "text/plain": [
       "(271360, 8)"
      ]
     },
     "execution_count": 35,
     "metadata": {},
     "output_type": "execute_result"
    }
   ],
   "source": [
    "book.shape"
   ]
  },
  {
   "cell_type": "code",
   "execution_count": 36,
   "id": "6c7574a3",
   "metadata": {},
   "outputs": [
    {
     "data": {
      "text/plain": [
       "Index(['ISBN', 'Book-Title', 'Book-Author', 'Year-Of-Publication', 'Publisher',\n",
       "       'Image-URL-S', 'Image-URL-M', 'Image-URL-L'],\n",
       "      dtype='object')"
      ]
     },
     "execution_count": 36,
     "metadata": {},
     "output_type": "execute_result"
    }
   ],
   "source": [
    "book.columns"
   ]
  },
  {
   "cell_type": "code",
   "execution_count": 37,
   "id": "3f61cd40",
   "metadata": {},
   "outputs": [],
   "source": [
    "book = book[['ISBN', 'Book-Title', 'Book-Author', 'Year-Of-Publication', 'Publisher', 'Image-URL-L']]"
   ]
  },
  {
   "cell_type": "code",
   "execution_count": 42,
   "id": "d68172ce",
   "metadata": {},
   "outputs": [
    {
     "data": {
      "text/html": [
       "<div>\n",
       "<style scoped>\n",
       "    .dataframe tbody tr th:only-of-type {\n",
       "        vertical-align: middle;\n",
       "    }\n",
       "\n",
       "    .dataframe tbody tr th {\n",
       "        vertical-align: top;\n",
       "    }\n",
       "\n",
       "    .dataframe thead th {\n",
       "        text-align: right;\n",
       "    }\n",
       "</style>\n",
       "<table border=\"1\" class=\"dataframe\">\n",
       "  <thead>\n",
       "    <tr style=\"text-align: right;\">\n",
       "      <th></th>\n",
       "      <th>ISBN</th>\n",
       "      <th>title</th>\n",
       "      <th>author</th>\n",
       "      <th>year release</th>\n",
       "      <th>publisher</th>\n",
       "      <th>img_url</th>\n",
       "    </tr>\n",
       "  </thead>\n",
       "  <tbody>\n",
       "    <tr>\n",
       "      <th>0</th>\n",
       "      <td>0195153448</td>\n",
       "      <td>Classical Mythology</td>\n",
       "      <td>Mark P. O. Morford</td>\n",
       "      <td>2002</td>\n",
       "      <td>Oxford University Press</td>\n",
       "      <td>http://images.amazon.com/images/P/0195153448.0...</td>\n",
       "    </tr>\n",
       "    <tr>\n",
       "      <th>1</th>\n",
       "      <td>0002005018</td>\n",
       "      <td>Clara Callan</td>\n",
       "      <td>Richard Bruce Wright</td>\n",
       "      <td>2001</td>\n",
       "      <td>HarperFlamingo Canada</td>\n",
       "      <td>http://images.amazon.com/images/P/0002005018.0...</td>\n",
       "    </tr>\n",
       "  </tbody>\n",
       "</table>\n",
       "</div>"
      ],
      "text/plain": [
       "         ISBN                title                author year release  \\\n",
       "0  0195153448  Classical Mythology    Mark P. O. Morford         2002   \n",
       "1  0002005018         Clara Callan  Richard Bruce Wright         2001   \n",
       "\n",
       "                 publisher                                            img_url  \n",
       "0  Oxford University Press  http://images.amazon.com/images/P/0195153448.0...  \n",
       "1    HarperFlamingo Canada  http://images.amazon.com/images/P/0002005018.0...  "
      ]
     },
     "execution_count": 42,
     "metadata": {},
     "output_type": "execute_result"
    }
   ],
   "source": [
    "book.head(2)"
   ]
  },
  {
   "cell_type": "code",
   "execution_count": 39,
   "id": "5abf3009",
   "metadata": {},
   "outputs": [],
   "source": [
    "book.rename(columns={\n",
    "    'Book-Title' : 'title',\n",
    "    'Book-Author' : 'author',\n",
    "    'Year-Of-Publication' : 'year release',\n",
    "    'Publisher' : 'publisher',\n",
    "    'Image-URL-L' : 'img_url'\n",
    "}, inplace=True)"
   ]
  },
  {
   "cell_type": "markdown",
   "id": "2c35ddd5",
   "metadata": {},
   "source": [
    "### Missing Value Checking"
   ]
  },
  {
   "cell_type": "code",
   "execution_count": 71,
   "id": "43a01621",
   "metadata": {},
   "outputs": [
    {
     "data": {
      "text/plain": [
       "ISBN            0\n",
       "title           0\n",
       "author          1\n",
       "year release    0\n",
       "publisher       2\n",
       "img_url         3\n",
       "dtype: int64"
      ]
     },
     "execution_count": 71,
     "metadata": {},
     "output_type": "execute_result"
    }
   ],
   "source": [
    "book.isna().sum()"
   ]
  },
  {
   "cell_type": "code",
   "execution_count": 73,
   "id": "0cc9b1cc",
   "metadata": {},
   "outputs": [
    {
     "name": "stdout",
     "output_type": "stream",
     "text": [
      "Jumlah missing value : 6\n"
     ]
    }
   ],
   "source": [
    "print('Jumlah missing value :', book.shape[0] - book.dropna().shape[0])"
   ]
  },
  {
   "cell_type": "markdown",
   "id": "1be5e7e5",
   "metadata": {},
   "source": [
    "**Observation**\n",
    "\n",
    "1. Untuk Dataset buku terdapat 271360 baris dan 8 kolom, disini untuk nama kolom dirubah agar memudahkan pada saat analisis dan modeling\n",
    "2. Terdapat missing value pada dataset buku yaitu sebanyak 6\n",
    "2. Kolom ISBN merupakan data unik setiap buku"
   ]
  },
  {
   "cell_type": "markdown",
   "id": "24558c35",
   "metadata": {},
   "source": [
    "## User Dataset"
   ]
  },
  {
   "cell_type": "code",
   "execution_count": 48,
   "id": "c97277ec",
   "metadata": {},
   "outputs": [
    {
     "data": {
      "text/html": [
       "<div>\n",
       "<style scoped>\n",
       "    .dataframe tbody tr th:only-of-type {\n",
       "        vertical-align: middle;\n",
       "    }\n",
       "\n",
       "    .dataframe tbody tr th {\n",
       "        vertical-align: top;\n",
       "    }\n",
       "\n",
       "    .dataframe thead th {\n",
       "        text-align: right;\n",
       "    }\n",
       "</style>\n",
       "<table border=\"1\" class=\"dataframe\">\n",
       "  <thead>\n",
       "    <tr style=\"text-align: right;\">\n",
       "      <th></th>\n",
       "      <th>User-ID</th>\n",
       "      <th>Location</th>\n",
       "      <th>Age</th>\n",
       "    </tr>\n",
       "  </thead>\n",
       "  <tbody>\n",
       "    <tr>\n",
       "      <th>0</th>\n",
       "      <td>1</td>\n",
       "      <td>nyc, new york, usa</td>\n",
       "      <td>NaN</td>\n",
       "    </tr>\n",
       "    <tr>\n",
       "      <th>1</th>\n",
       "      <td>2</td>\n",
       "      <td>stockton, california, usa</td>\n",
       "      <td>18.0</td>\n",
       "    </tr>\n",
       "  </tbody>\n",
       "</table>\n",
       "</div>"
      ],
      "text/plain": [
       "   User-ID                   Location   Age\n",
       "0        1         nyc, new york, usa   NaN\n",
       "1        2  stockton, california, usa  18.0"
      ]
     },
     "execution_count": 48,
     "metadata": {},
     "output_type": "execute_result"
    }
   ],
   "source": [
    "user.head(2)"
   ]
  },
  {
   "cell_type": "code",
   "execution_count": 74,
   "id": "940fc673",
   "metadata": {},
   "outputs": [
    {
     "name": "stdout",
     "output_type": "stream",
     "text": [
      "<class 'pandas.core.frame.DataFrame'>\n",
      "RangeIndex: 278858 entries, 0 to 278857\n",
      "Data columns (total 3 columns):\n",
      " #   Column    Non-Null Count   Dtype  \n",
      "---  ------    --------------   -----  \n",
      " 0   user_id   278858 non-null  int64  \n",
      " 1   location  278858 non-null  object \n",
      " 2   age       168096 non-null  float64\n",
      "dtypes: float64(1), int64(1), object(1)\n",
      "memory usage: 6.4+ MB\n"
     ]
    }
   ],
   "source": [
    "user.info()"
   ]
  },
  {
   "cell_type": "code",
   "execution_count": 49,
   "id": "b7099ba2",
   "metadata": {},
   "outputs": [
    {
     "data": {
      "text/plain": [
       "(278858, 3)"
      ]
     },
     "execution_count": 49,
     "metadata": {},
     "output_type": "execute_result"
    }
   ],
   "source": [
    "user.shape"
   ]
  },
  {
   "cell_type": "code",
   "execution_count": 50,
   "id": "8bfcf552",
   "metadata": {},
   "outputs": [],
   "source": [
    "user.rename(columns={\n",
    "    'User-ID' : 'user_id',\n",
    "    'Location' :'location',\n",
    "    'Age' : 'age'\n",
    "}, inplace=True)"
   ]
  },
  {
   "cell_type": "code",
   "execution_count": 51,
   "id": "f06af77d",
   "metadata": {},
   "outputs": [
    {
     "data": {
      "text/html": [
       "<div>\n",
       "<style scoped>\n",
       "    .dataframe tbody tr th:only-of-type {\n",
       "        vertical-align: middle;\n",
       "    }\n",
       "\n",
       "    .dataframe tbody tr th {\n",
       "        vertical-align: top;\n",
       "    }\n",
       "\n",
       "    .dataframe thead th {\n",
       "        text-align: right;\n",
       "    }\n",
       "</style>\n",
       "<table border=\"1\" class=\"dataframe\">\n",
       "  <thead>\n",
       "    <tr style=\"text-align: right;\">\n",
       "      <th></th>\n",
       "      <th>user_id</th>\n",
       "      <th>location</th>\n",
       "      <th>age</th>\n",
       "    </tr>\n",
       "  </thead>\n",
       "  <tbody>\n",
       "    <tr>\n",
       "      <th>0</th>\n",
       "      <td>1</td>\n",
       "      <td>nyc, new york, usa</td>\n",
       "      <td>NaN</td>\n",
       "    </tr>\n",
       "    <tr>\n",
       "      <th>1</th>\n",
       "      <td>2</td>\n",
       "      <td>stockton, california, usa</td>\n",
       "      <td>18.0</td>\n",
       "    </tr>\n",
       "  </tbody>\n",
       "</table>\n",
       "</div>"
      ],
      "text/plain": [
       "   user_id                   location   age\n",
       "0        1         nyc, new york, usa   NaN\n",
       "1        2  stockton, california, usa  18.0"
      ]
     },
     "execution_count": 51,
     "metadata": {},
     "output_type": "execute_result"
    }
   ],
   "source": [
    "user.head(2)"
   ]
  },
  {
   "cell_type": "markdown",
   "id": "e0424a14",
   "metadata": {},
   "source": [
    "### Missing Value Checking"
   ]
  },
  {
   "cell_type": "code",
   "execution_count": 75,
   "id": "eea6133e",
   "metadata": {},
   "outputs": [
    {
     "data": {
      "text/plain": [
       "user_id          0\n",
       "location         0\n",
       "age         110762\n",
       "dtype: int64"
      ]
     },
     "execution_count": 75,
     "metadata": {},
     "output_type": "execute_result"
    }
   ],
   "source": [
    "user.isna().sum()"
   ]
  },
  {
   "cell_type": "code",
   "execution_count": 76,
   "id": "723c4223",
   "metadata": {},
   "outputs": [
    {
     "name": "stdout",
     "output_type": "stream",
     "text": [
      "Jumlah missing value : 110762\n"
     ]
    }
   ],
   "source": [
    "print('Jumlah missing value :', user.shape[0] - user.dropna().shape[0])"
   ]
  },
  {
   "cell_type": "markdown",
   "id": "badfdd76",
   "metadata": {},
   "source": [
    "**Observation**\n",
    "\n",
    "1. Untuk Dataset user terdapat 278858 baris dan 3 kolom, disini untuk nama kolom dirubah agar memudahkan pada saat analisis dan modeling\n",
    "2. Terdapat missing values sebanyak 110762\n",
    "3. Kolom user_id merupakan data unik setiap user"
   ]
  },
  {
   "cell_type": "markdown",
   "id": "66a75c46",
   "metadata": {},
   "source": [
    "## Rating Dataset"
   ]
  },
  {
   "cell_type": "code",
   "execution_count": 44,
   "id": "c97b7dc9",
   "metadata": {},
   "outputs": [
    {
     "data": {
      "text/html": [
       "<div>\n",
       "<style scoped>\n",
       "    .dataframe tbody tr th:only-of-type {\n",
       "        vertical-align: middle;\n",
       "    }\n",
       "\n",
       "    .dataframe tbody tr th {\n",
       "        vertical-align: top;\n",
       "    }\n",
       "\n",
       "    .dataframe thead th {\n",
       "        text-align: right;\n",
       "    }\n",
       "</style>\n",
       "<table border=\"1\" class=\"dataframe\">\n",
       "  <thead>\n",
       "    <tr style=\"text-align: right;\">\n",
       "      <th></th>\n",
       "      <th>User-ID</th>\n",
       "      <th>ISBN</th>\n",
       "      <th>Book-Rating</th>\n",
       "    </tr>\n",
       "  </thead>\n",
       "  <tbody>\n",
       "    <tr>\n",
       "      <th>0</th>\n",
       "      <td>276725</td>\n",
       "      <td>034545104X</td>\n",
       "      <td>0</td>\n",
       "    </tr>\n",
       "    <tr>\n",
       "      <th>1</th>\n",
       "      <td>276726</td>\n",
       "      <td>0155061224</td>\n",
       "      <td>5</td>\n",
       "    </tr>\n",
       "  </tbody>\n",
       "</table>\n",
       "</div>"
      ],
      "text/plain": [
       "   User-ID        ISBN  Book-Rating\n",
       "0   276725  034545104X            0\n",
       "1   276726  0155061224            5"
      ]
     },
     "execution_count": 44,
     "metadata": {},
     "output_type": "execute_result"
    }
   ],
   "source": [
    "rating.head(2)"
   ]
  },
  {
   "cell_type": "code",
   "execution_count": 77,
   "id": "1b987016",
   "metadata": {},
   "outputs": [
    {
     "name": "stdout",
     "output_type": "stream",
     "text": [
      "<class 'pandas.core.frame.DataFrame'>\n",
      "Int64Index: 656605 entries, 412 to 1149637\n",
      "Data columns (total 3 columns):\n",
      " #   Column   Non-Null Count   Dtype \n",
      "---  ------   --------------   ----- \n",
      " 0   user_id  656605 non-null  int64 \n",
      " 1   ISBN     656605 non-null  object\n",
      " 2   rating   656605 non-null  int64 \n",
      "dtypes: int64(2), object(1)\n",
      "memory usage: 20.0+ MB\n"
     ]
    }
   ],
   "source": [
    "rating.info()"
   ]
  },
  {
   "cell_type": "code",
   "execution_count": 45,
   "id": "db53a4ad",
   "metadata": {},
   "outputs": [
    {
     "data": {
      "text/plain": [
       "(1149780, 3)"
      ]
     },
     "execution_count": 45,
     "metadata": {},
     "output_type": "execute_result"
    }
   ],
   "source": [
    "rating.shape"
   ]
  },
  {
   "cell_type": "code",
   "execution_count": 46,
   "id": "2a7e6ae9",
   "metadata": {},
   "outputs": [],
   "source": [
    "rating.rename(columns={\n",
    "    'User-ID' : 'user_id',\n",
    "    'Book-Rating' :'rating'\n",
    "}, inplace=True)"
   ]
  },
  {
   "cell_type": "code",
   "execution_count": 47,
   "id": "20307724",
   "metadata": {},
   "outputs": [
    {
     "data": {
      "text/html": [
       "<div>\n",
       "<style scoped>\n",
       "    .dataframe tbody tr th:only-of-type {\n",
       "        vertical-align: middle;\n",
       "    }\n",
       "\n",
       "    .dataframe tbody tr th {\n",
       "        vertical-align: top;\n",
       "    }\n",
       "\n",
       "    .dataframe thead th {\n",
       "        text-align: right;\n",
       "    }\n",
       "</style>\n",
       "<table border=\"1\" class=\"dataframe\">\n",
       "  <thead>\n",
       "    <tr style=\"text-align: right;\">\n",
       "      <th></th>\n",
       "      <th>user_id</th>\n",
       "      <th>ISBN</th>\n",
       "      <th>rating</th>\n",
       "    </tr>\n",
       "  </thead>\n",
       "  <tbody>\n",
       "    <tr>\n",
       "      <th>0</th>\n",
       "      <td>276725</td>\n",
       "      <td>034545104X</td>\n",
       "      <td>0</td>\n",
       "    </tr>\n",
       "    <tr>\n",
       "      <th>1</th>\n",
       "      <td>276726</td>\n",
       "      <td>0155061224</td>\n",
       "      <td>5</td>\n",
       "    </tr>\n",
       "  </tbody>\n",
       "</table>\n",
       "</div>"
      ],
      "text/plain": [
       "   user_id        ISBN  rating\n",
       "0   276725  034545104X       0\n",
       "1   276726  0155061224       5"
      ]
     },
     "execution_count": 47,
     "metadata": {},
     "output_type": "execute_result"
    }
   ],
   "source": [
    "rating.head(2)"
   ]
  },
  {
   "cell_type": "markdown",
   "id": "de4e2ebb",
   "metadata": {},
   "source": [
    "### Missing Value Checking"
   ]
  },
  {
   "cell_type": "code",
   "execution_count": 78,
   "id": "5b72e3e7",
   "metadata": {},
   "outputs": [
    {
     "data": {
      "text/plain": [
       "user_id    0\n",
       "ISBN       0\n",
       "rating     0\n",
       "dtype: int64"
      ]
     },
     "execution_count": 78,
     "metadata": {},
     "output_type": "execute_result"
    }
   ],
   "source": [
    "rating.isna().sum()"
   ]
  },
  {
   "cell_type": "code",
   "execution_count": 79,
   "id": "064ac939",
   "metadata": {},
   "outputs": [
    {
     "name": "stdout",
     "output_type": "stream",
     "text": [
      "Jumlah missing value : 0\n"
     ]
    }
   ],
   "source": [
    "print('Jumlah missing value :', rating.shape[0] - rating.dropna().shape[0])"
   ]
  },
  {
   "cell_type": "markdown",
   "id": "206229d8",
   "metadata": {},
   "source": [
    "**Observation**\n",
    "\n",
    "1. Untuk Dataset rating terdapat 1149780 baris dan 3 kolom, disini untuk nama kolom dirubah agar memudahkan pada saat analisis dan modeling\n",
    "2. Tidak terdapat missing value pada dataset rating\n",
    "3. Terdapat kolom user_id dan ISBN yang merupakan data unik"
   ]
  },
  {
   "cell_type": "markdown",
   "id": "58ae70b1",
   "metadata": {},
   "source": [
    "## Total Data pada Masing-masing Dataset"
   ]
  },
  {
   "cell_type": "code",
   "execution_count": 52,
   "id": "e9ab80f5",
   "metadata": {},
   "outputs": [
    {
     "name": "stdout",
     "output_type": "stream",
     "text": [
      "Jumlah Data buku : 271360\n",
      "Jumlah Data user : 278858\n",
      "Jumlah Data rating : 1149780\n"
     ]
    }
   ],
   "source": [
    "print(f'Jumlah Data buku : {book.shape[0]}')\n",
    "print(f'Jumlah Data user : {user.shape[0]}')\n",
    "print(f'Jumlah Data rating : {rating.shape[0]}')"
   ]
  },
  {
   "cell_type": "markdown",
   "id": "e837cd69",
   "metadata": {},
   "source": [
    "## Check Jumlah data pada dataset rating untuk user_id"
   ]
  },
  {
   "cell_type": "code",
   "execution_count": 56,
   "id": "519df365",
   "metadata": {},
   "outputs": [
    {
     "data": {
      "text/plain": [
       "11676     13602\n",
       "198711     7550\n",
       "153662     6109\n",
       "98391      5891\n",
       "35859      5850\n",
       "          ...  \n",
       "116180        1\n",
       "116166        1\n",
       "116154        1\n",
       "116137        1\n",
       "276723        1\n",
       "Name: user_id, Length: 105283, dtype: int64"
      ]
     },
     "execution_count": 56,
     "metadata": {},
     "output_type": "execute_result"
    }
   ],
   "source": [
    "rating['user_id'].value_counts()"
   ]
  },
  {
   "cell_type": "markdown",
   "id": "a9fefaff",
   "metadata": {},
   "source": [
    "**Observation**\n",
    "\n",
    "Dikarenakan banyaknya data pada rating dan terdapat user yang hanya memberikan 1 rating untuk setiap buku, hal ini akan mempengaruhi akurasi. Karena untuk recommender system Collaborative Filtering yaitu berdasarkan Behavior Interaction user atau interaksi user sehingga user yang memberikan rating semakin banyak semakin baik. Maka disini akan dilakukan filtering untuk mengambil user yang memberikan rating lebih dari 100"
   ]
  },
  {
   "cell_type": "code",
   "execution_count": 60,
   "id": "97ca989c",
   "metadata": {},
   "outputs": [
    {
     "data": {
      "text/plain": [
       "(1825,)"
      ]
     },
     "execution_count": 60,
     "metadata": {},
     "output_type": "execute_result"
    }
   ],
   "source": [
    "#filtering\n",
    "\n",
    "cond = rating['user_id'].value_counts() > 100\n",
    "cond[cond].shape"
   ]
  },
  {
   "cell_type": "code",
   "execution_count": 62,
   "id": "6b35dec4",
   "metadata": {},
   "outputs": [
    {
     "data": {
      "text/plain": [
       "Int64Index([ 11676, 198711, 153662,  98391,  35859, 212898, 278418,  76352,\n",
       "            110973, 235105,\n",
       "            ...\n",
       "            238186,  99441, 187410, 262070,  70183,  40553,  39345, 266283,\n",
       "            189666, 140879],\n",
       "           dtype='int64', length=1825)"
      ]
     },
     "execution_count": 62,
     "metadata": {},
     "output_type": "execute_result"
    }
   ],
   "source": [
    "index = cond[cond].index\n",
    "index"
   ]
  },
  {
   "cell_type": "markdown",
   "id": "eb50b012",
   "metadata": {},
   "source": [
    "**Observation**\n",
    "\n",
    "Setelah dilakukan filtering hanya terdapat 1825 user yang memberikan rating diatas 100"
   ]
  },
  {
   "cell_type": "code",
   "execution_count": 67,
   "id": "c0b36331",
   "metadata": {},
   "outputs": [
    {
     "data": {
      "text/html": [
       "<div>\n",
       "<style scoped>\n",
       "    .dataframe tbody tr th:only-of-type {\n",
       "        vertical-align: middle;\n",
       "    }\n",
       "\n",
       "    .dataframe tbody tr th {\n",
       "        vertical-align: top;\n",
       "    }\n",
       "\n",
       "    .dataframe thead th {\n",
       "        text-align: right;\n",
       "    }\n",
       "</style>\n",
       "<table border=\"1\" class=\"dataframe\">\n",
       "  <thead>\n",
       "    <tr style=\"text-align: right;\">\n",
       "      <th></th>\n",
       "      <th>user_id</th>\n",
       "      <th>ISBN</th>\n",
       "      <th>rating</th>\n",
       "    </tr>\n",
       "  </thead>\n",
       "  <tbody>\n",
       "    <tr>\n",
       "      <th>412</th>\n",
       "      <td>276925</td>\n",
       "      <td>0006511929</td>\n",
       "      <td>0</td>\n",
       "    </tr>\n",
       "    <tr>\n",
       "      <th>413</th>\n",
       "      <td>276925</td>\n",
       "      <td>002542730X</td>\n",
       "      <td>10</td>\n",
       "    </tr>\n",
       "    <tr>\n",
       "      <th>414</th>\n",
       "      <td>276925</td>\n",
       "      <td>0060520507</td>\n",
       "      <td>0</td>\n",
       "    </tr>\n",
       "  </tbody>\n",
       "</table>\n",
       "</div>"
      ],
      "text/plain": [
       "     user_id        ISBN  rating\n",
       "412   276925  0006511929       0\n",
       "413   276925  002542730X      10\n",
       "414   276925  0060520507       0"
      ]
     },
     "execution_count": 67,
     "metadata": {},
     "output_type": "execute_result"
    }
   ],
   "source": [
    "#mengambil data yang hanya memberikan rating lebih dari 100\n",
    "rating = rating[rating['user_id'].isin(index)]\n",
    "rating.head(3)"
   ]
  },
  {
   "cell_type": "code",
   "execution_count": 69,
   "id": "5dfc41dc",
   "metadata": {},
   "outputs": [
    {
     "name": "stdout",
     "output_type": "stream",
     "text": [
      "Jumlah dataset rating setelah filtering : 656605\n"
     ]
    }
   ],
   "source": [
    "print(f'Jumlah dataset rating setelah filtering : {rating.shape[0]}')"
   ]
  },
  {
   "cell_type": "markdown",
   "id": "816d7258",
   "metadata": {},
   "source": [
    "## Merge Dataset and Feature Engineering "
   ]
  },
  {
   "cell_type": "markdown",
   "id": "d6e8cf9f",
   "metadata": {},
   "source": [
    "### Merge Dataset rating_book dan book"
   ]
  },
  {
   "cell_type": "code",
   "execution_count": 80,
   "id": "76cbdaa8",
   "metadata": {},
   "outputs": [
    {
     "data": {
      "text/html": [
       "<div>\n",
       "<style scoped>\n",
       "    .dataframe tbody tr th:only-of-type {\n",
       "        vertical-align: middle;\n",
       "    }\n",
       "\n",
       "    .dataframe tbody tr th {\n",
       "        vertical-align: top;\n",
       "    }\n",
       "\n",
       "    .dataframe thead th {\n",
       "        text-align: right;\n",
       "    }\n",
       "</style>\n",
       "<table border=\"1\" class=\"dataframe\">\n",
       "  <thead>\n",
       "    <tr style=\"text-align: right;\">\n",
       "      <th></th>\n",
       "      <th>user_id</th>\n",
       "      <th>ISBN</th>\n",
       "      <th>rating</th>\n",
       "      <th>title</th>\n",
       "      <th>author</th>\n",
       "      <th>year release</th>\n",
       "      <th>publisher</th>\n",
       "      <th>img_url</th>\n",
       "    </tr>\n",
       "  </thead>\n",
       "  <tbody>\n",
       "    <tr>\n",
       "      <th>0</th>\n",
       "      <td>276925</td>\n",
       "      <td>002542730X</td>\n",
       "      <td>10</td>\n",
       "      <td>Politically Correct Bedtime Stories: Modern Ta...</td>\n",
       "      <td>James Finn Garner</td>\n",
       "      <td>1994</td>\n",
       "      <td>John Wiley &amp;amp; Sons Inc</td>\n",
       "      <td>http://images.amazon.com/images/P/002542730X.0...</td>\n",
       "    </tr>\n",
       "    <tr>\n",
       "      <th>1</th>\n",
       "      <td>277427</td>\n",
       "      <td>002542730X</td>\n",
       "      <td>10</td>\n",
       "      <td>Politically Correct Bedtime Stories: Modern Ta...</td>\n",
       "      <td>James Finn Garner</td>\n",
       "      <td>1994</td>\n",
       "      <td>John Wiley &amp;amp; Sons Inc</td>\n",
       "      <td>http://images.amazon.com/images/P/002542730X.0...</td>\n",
       "    </tr>\n",
       "    <tr>\n",
       "      <th>2</th>\n",
       "      <td>3363</td>\n",
       "      <td>002542730X</td>\n",
       "      <td>0</td>\n",
       "      <td>Politically Correct Bedtime Stories: Modern Ta...</td>\n",
       "      <td>James Finn Garner</td>\n",
       "      <td>1994</td>\n",
       "      <td>John Wiley &amp;amp; Sons Inc</td>\n",
       "      <td>http://images.amazon.com/images/P/002542730X.0...</td>\n",
       "    </tr>\n",
       "  </tbody>\n",
       "</table>\n",
       "</div>"
      ],
      "text/plain": [
       "   user_id        ISBN  rating  \\\n",
       "0   276925  002542730X      10   \n",
       "1   277427  002542730X      10   \n",
       "2     3363  002542730X       0   \n",
       "\n",
       "                                               title             author  \\\n",
       "0  Politically Correct Bedtime Stories: Modern Ta...  James Finn Garner   \n",
       "1  Politically Correct Bedtime Stories: Modern Ta...  James Finn Garner   \n",
       "2  Politically Correct Bedtime Stories: Modern Ta...  James Finn Garner   \n",
       "\n",
       "  year release                  publisher  \\\n",
       "0         1994  John Wiley &amp; Sons Inc   \n",
       "1         1994  John Wiley &amp; Sons Inc   \n",
       "2         1994  John Wiley &amp; Sons Inc   \n",
       "\n",
       "                                             img_url  \n",
       "0  http://images.amazon.com/images/P/002542730X.0...  \n",
       "1  http://images.amazon.com/images/P/002542730X.0...  \n",
       "2  http://images.amazon.com/images/P/002542730X.0...  "
      ]
     },
     "execution_count": 80,
     "metadata": {},
     "output_type": "execute_result"
    }
   ],
   "source": [
    "rating_book = rating.merge(book, on='ISBN')\n",
    "rating_book.head(3)"
   ]
  },
  {
   "cell_type": "code",
   "execution_count": 83,
   "id": "9c3c4e6f",
   "metadata": {
    "scrolled": true
   },
   "outputs": [
    {
     "name": "stdout",
     "output_type": "stream",
     "text": [
      "Jumlah data pada buku dan rating : 604854\n",
      "Jumlah kolom pada buku dan rating : 8\n"
     ]
    }
   ],
   "source": [
    "print(f'Jumlah data pada buku dan rating : {rating_book.shape[0]}')\n",
    "print(f'Jumlah kolom pada buku dan rating : {rating_book.shape[1]}')"
   ]
  },
  {
   "cell_type": "markdown",
   "id": "3180d0e0",
   "metadata": {},
   "source": [
    "**Observation**\n",
    "\n",
    "Setelah dilakukan merge pada rating dengan book jumlah data menjadi 604854 dengan 8 kolom"
   ]
  },
  {
   "cell_type": "markdown",
   "id": "ddff38c7",
   "metadata": {},
   "source": [
    "### Melihat jumlah Rating pada setiap buku"
   ]
  },
  {
   "cell_type": "code",
   "execution_count": 87,
   "id": "3a57a752",
   "metadata": {},
   "outputs": [
    {
     "data": {
      "text/html": [
       "<div>\n",
       "<style scoped>\n",
       "    .dataframe tbody tr th:only-of-type {\n",
       "        vertical-align: middle;\n",
       "    }\n",
       "\n",
       "    .dataframe tbody tr th {\n",
       "        vertical-align: top;\n",
       "    }\n",
       "\n",
       "    .dataframe thead th {\n",
       "        text-align: right;\n",
       "    }\n",
       "</style>\n",
       "<table border=\"1\" class=\"dataframe\">\n",
       "  <thead>\n",
       "    <tr style=\"text-align: right;\">\n",
       "      <th></th>\n",
       "      <th>title</th>\n",
       "      <th>rating</th>\n",
       "    </tr>\n",
       "  </thead>\n",
       "  <tbody>\n",
       "    <tr>\n",
       "      <th>0</th>\n",
       "      <td>A Light in the Storm: The Civil War Diary of ...</td>\n",
       "      <td>3</td>\n",
       "    </tr>\n",
       "    <tr>\n",
       "      <th>1</th>\n",
       "      <td>Always Have Popsicles</td>\n",
       "      <td>1</td>\n",
       "    </tr>\n",
       "    <tr>\n",
       "      <th>2</th>\n",
       "      <td>Apple Magic (The Collector's series)</td>\n",
       "      <td>1</td>\n",
       "    </tr>\n",
       "    <tr>\n",
       "      <th>3</th>\n",
       "      <td>Beyond IBM: Leadership Marketing and Finance ...</td>\n",
       "      <td>1</td>\n",
       "    </tr>\n",
       "    <tr>\n",
       "      <th>4</th>\n",
       "      <td>Clifford Visita El Hospital (Clifford El Gran...</td>\n",
       "      <td>1</td>\n",
       "    </tr>\n",
       "  </tbody>\n",
       "</table>\n",
       "</div>"
      ],
      "text/plain": [
       "                                               title  rating\n",
       "0   A Light in the Storm: The Civil War Diary of ...       3\n",
       "1                              Always Have Popsicles       1\n",
       "2               Apple Magic (The Collector's series)       1\n",
       "3   Beyond IBM: Leadership Marketing and Finance ...       1\n",
       "4   Clifford Visita El Hospital (Clifford El Gran...       1"
      ]
     },
     "execution_count": 87,
     "metadata": {},
     "output_type": "execute_result"
    }
   ],
   "source": [
    "num_rating = rating_book.groupby('title')['rating'].count().reset_index()\n",
    "num_rating.head()"
   ]
  },
  {
   "cell_type": "markdown",
   "id": "44b02638",
   "metadata": {},
   "source": [
    "**Observation**\n",
    "\n",
    "Hal ini dilakukan untuk melihat jumlah rating pada masing-masing buku. Terdapat buku yang memiliki rating lebih dari 1 yaitu buku A Light in the Storm "
   ]
  },
  {
   "cell_type": "code",
   "execution_count": 89,
   "id": "0746ef40",
   "metadata": {},
   "outputs": [
    {
     "data": {
      "text/html": [
       "<div>\n",
       "<style scoped>\n",
       "    .dataframe tbody tr th:only-of-type {\n",
       "        vertical-align: middle;\n",
       "    }\n",
       "\n",
       "    .dataframe tbody tr th {\n",
       "        vertical-align: top;\n",
       "    }\n",
       "\n",
       "    .dataframe thead th {\n",
       "        text-align: right;\n",
       "    }\n",
       "</style>\n",
       "<table border=\"1\" class=\"dataframe\">\n",
       "  <thead>\n",
       "    <tr style=\"text-align: right;\">\n",
       "      <th></th>\n",
       "      <th>title</th>\n",
       "      <th>num_of_rating</th>\n",
       "    </tr>\n",
       "  </thead>\n",
       "  <tbody>\n",
       "    <tr>\n",
       "      <th>0</th>\n",
       "      <td>A Light in the Storm: The Civil War Diary of ...</td>\n",
       "      <td>3</td>\n",
       "    </tr>\n",
       "    <tr>\n",
       "      <th>1</th>\n",
       "      <td>Always Have Popsicles</td>\n",
       "      <td>1</td>\n",
       "    </tr>\n",
       "    <tr>\n",
       "      <th>2</th>\n",
       "      <td>Apple Magic (The Collector's series)</td>\n",
       "      <td>1</td>\n",
       "    </tr>\n",
       "  </tbody>\n",
       "</table>\n",
       "</div>"
      ],
      "text/plain": [
       "                                               title  num_of_rating\n",
       "0   A Light in the Storm: The Civil War Diary of ...              3\n",
       "1                              Always Have Popsicles              1\n",
       "2               Apple Magic (The Collector's series)              1"
      ]
     },
     "execution_count": 89,
     "metadata": {},
     "output_type": "execute_result"
    }
   ],
   "source": [
    "#merename rating menjadi number of rating\n",
    "num_rating.rename(columns={'rating':'num_of_rating'}, inplace=True)\n",
    "num_rating.head(3)"
   ]
  },
  {
   "cell_type": "markdown",
   "id": "95dbf059",
   "metadata": {},
   "source": [
    "### Merge Dataset rating_book dengan num_rating"
   ]
  },
  {
   "cell_type": "code",
   "execution_count": 90,
   "id": "fe51cfb5",
   "metadata": {},
   "outputs": [
    {
     "data": {
      "text/html": [
       "<div>\n",
       "<style scoped>\n",
       "    .dataframe tbody tr th:only-of-type {\n",
       "        vertical-align: middle;\n",
       "    }\n",
       "\n",
       "    .dataframe tbody tr th {\n",
       "        vertical-align: top;\n",
       "    }\n",
       "\n",
       "    .dataframe thead th {\n",
       "        text-align: right;\n",
       "    }\n",
       "</style>\n",
       "<table border=\"1\" class=\"dataframe\">\n",
       "  <thead>\n",
       "    <tr style=\"text-align: right;\">\n",
       "      <th></th>\n",
       "      <th>user_id</th>\n",
       "      <th>ISBN</th>\n",
       "      <th>rating</th>\n",
       "      <th>title</th>\n",
       "      <th>author</th>\n",
       "      <th>year release</th>\n",
       "      <th>publisher</th>\n",
       "      <th>img_url</th>\n",
       "      <th>num_of_rating</th>\n",
       "    </tr>\n",
       "  </thead>\n",
       "  <tbody>\n",
       "    <tr>\n",
       "      <th>0</th>\n",
       "      <td>276925</td>\n",
       "      <td>002542730X</td>\n",
       "      <td>10</td>\n",
       "      <td>Politically Correct Bedtime Stories: Modern Ta...</td>\n",
       "      <td>James Finn Garner</td>\n",
       "      <td>1994</td>\n",
       "      <td>John Wiley &amp;amp; Sons Inc</td>\n",
       "      <td>http://images.amazon.com/images/P/002542730X.0...</td>\n",
       "      <td>105</td>\n",
       "    </tr>\n",
       "    <tr>\n",
       "      <th>1</th>\n",
       "      <td>277427</td>\n",
       "      <td>002542730X</td>\n",
       "      <td>10</td>\n",
       "      <td>Politically Correct Bedtime Stories: Modern Ta...</td>\n",
       "      <td>James Finn Garner</td>\n",
       "      <td>1994</td>\n",
       "      <td>John Wiley &amp;amp; Sons Inc</td>\n",
       "      <td>http://images.amazon.com/images/P/002542730X.0...</td>\n",
       "      <td>105</td>\n",
       "    </tr>\n",
       "    <tr>\n",
       "      <th>2</th>\n",
       "      <td>3363</td>\n",
       "      <td>002542730X</td>\n",
       "      <td>0</td>\n",
       "      <td>Politically Correct Bedtime Stories: Modern Ta...</td>\n",
       "      <td>James Finn Garner</td>\n",
       "      <td>1994</td>\n",
       "      <td>John Wiley &amp;amp; Sons Inc</td>\n",
       "      <td>http://images.amazon.com/images/P/002542730X.0...</td>\n",
       "      <td>105</td>\n",
       "    </tr>\n",
       "  </tbody>\n",
       "</table>\n",
       "</div>"
      ],
      "text/plain": [
       "   user_id        ISBN  rating  \\\n",
       "0   276925  002542730X      10   \n",
       "1   277427  002542730X      10   \n",
       "2     3363  002542730X       0   \n",
       "\n",
       "                                               title             author  \\\n",
       "0  Politically Correct Bedtime Stories: Modern Ta...  James Finn Garner   \n",
       "1  Politically Correct Bedtime Stories: Modern Ta...  James Finn Garner   \n",
       "2  Politically Correct Bedtime Stories: Modern Ta...  James Finn Garner   \n",
       "\n",
       "  year release                  publisher  \\\n",
       "0         1994  John Wiley &amp; Sons Inc   \n",
       "1         1994  John Wiley &amp; Sons Inc   \n",
       "2         1994  John Wiley &amp; Sons Inc   \n",
       "\n",
       "                                             img_url  num_of_rating  \n",
       "0  http://images.amazon.com/images/P/002542730X.0...            105  \n",
       "1  http://images.amazon.com/images/P/002542730X.0...            105  \n",
       "2  http://images.amazon.com/images/P/002542730X.0...            105  "
      ]
     },
     "execution_count": 90,
     "metadata": {},
     "output_type": "execute_result"
    }
   ],
   "source": [
    "#merge rating_book dengan num_rating agar terlihat total rating pada setiap buku\n",
    "\n",
    "final_rating = rating_book.merge(num_rating, on='title')\n",
    "final_rating.head(3)"
   ]
  },
  {
   "cell_type": "code",
   "execution_count": 93,
   "id": "ec3f9ba7",
   "metadata": {},
   "outputs": [
    {
     "name": "stdout",
     "output_type": "stream",
     "text": [
      "Jumlah data pada final_rating : 604854\n",
      "Jumlah kolom pada final_rating : 9\n"
     ]
    }
   ],
   "source": [
    "print(f'Jumlah data pada final_rating : {final_rating.shape[0]}')\n",
    "print(f'Jumlah kolom pada final_rating : {final_rating.shape[1]}')"
   ]
  },
  {
   "cell_type": "markdown",
   "id": "b3b97033",
   "metadata": {},
   "source": [
    "**Observation**\n",
    "\n",
    "Menggabungkan rating_book dengan num_rating sehingga Jumlah data menjadi 604854 dan kolom sebanyak 9"
   ]
  },
  {
   "cell_type": "markdown",
   "id": "716e3a35",
   "metadata": {},
   "source": [
    "### Filtering Buku yang memiliki Jumlah Rating > 50"
   ]
  },
  {
   "cell_type": "code",
   "execution_count": 97,
   "id": "3baa6da4",
   "metadata": {
    "scrolled": false
   },
   "outputs": [
    {
     "data": {
      "text/html": [
       "<div>\n",
       "<style scoped>\n",
       "    .dataframe tbody tr th:only-of-type {\n",
       "        vertical-align: middle;\n",
       "    }\n",
       "\n",
       "    .dataframe tbody tr th {\n",
       "        vertical-align: top;\n",
       "    }\n",
       "\n",
       "    .dataframe thead th {\n",
       "        text-align: right;\n",
       "    }\n",
       "</style>\n",
       "<table border=\"1\" class=\"dataframe\">\n",
       "  <thead>\n",
       "    <tr style=\"text-align: right;\">\n",
       "      <th></th>\n",
       "      <th>user_id</th>\n",
       "      <th>ISBN</th>\n",
       "      <th>rating</th>\n",
       "      <th>title</th>\n",
       "      <th>author</th>\n",
       "      <th>year release</th>\n",
       "      <th>publisher</th>\n",
       "      <th>img_url</th>\n",
       "      <th>num_of_rating</th>\n",
       "    </tr>\n",
       "  </thead>\n",
       "  <tbody>\n",
       "    <tr>\n",
       "      <th>0</th>\n",
       "      <td>276925</td>\n",
       "      <td>002542730X</td>\n",
       "      <td>10</td>\n",
       "      <td>Politically Correct Bedtime Stories: Modern Ta...</td>\n",
       "      <td>James Finn Garner</td>\n",
       "      <td>1994</td>\n",
       "      <td>John Wiley &amp;amp; Sons Inc</td>\n",
       "      <td>http://images.amazon.com/images/P/002542730X.0...</td>\n",
       "      <td>105</td>\n",
       "    </tr>\n",
       "    <tr>\n",
       "      <th>1</th>\n",
       "      <td>277427</td>\n",
       "      <td>002542730X</td>\n",
       "      <td>10</td>\n",
       "      <td>Politically Correct Bedtime Stories: Modern Ta...</td>\n",
       "      <td>James Finn Garner</td>\n",
       "      <td>1994</td>\n",
       "      <td>John Wiley &amp;amp; Sons Inc</td>\n",
       "      <td>http://images.amazon.com/images/P/002542730X.0...</td>\n",
       "      <td>105</td>\n",
       "    </tr>\n",
       "    <tr>\n",
       "      <th>2</th>\n",
       "      <td>3363</td>\n",
       "      <td>002542730X</td>\n",
       "      <td>0</td>\n",
       "      <td>Politically Correct Bedtime Stories: Modern Ta...</td>\n",
       "      <td>James Finn Garner</td>\n",
       "      <td>1994</td>\n",
       "      <td>John Wiley &amp;amp; Sons Inc</td>\n",
       "      <td>http://images.amazon.com/images/P/002542730X.0...</td>\n",
       "      <td>105</td>\n",
       "    </tr>\n",
       "    <tr>\n",
       "      <th>3</th>\n",
       "      <td>10030</td>\n",
       "      <td>002542730X</td>\n",
       "      <td>7</td>\n",
       "      <td>Politically Correct Bedtime Stories: Modern Ta...</td>\n",
       "      <td>James Finn Garner</td>\n",
       "      <td>1994</td>\n",
       "      <td>John Wiley &amp;amp; Sons Inc</td>\n",
       "      <td>http://images.amazon.com/images/P/002542730X.0...</td>\n",
       "      <td>105</td>\n",
       "    </tr>\n",
       "    <tr>\n",
       "      <th>4</th>\n",
       "      <td>11676</td>\n",
       "      <td>002542730X</td>\n",
       "      <td>6</td>\n",
       "      <td>Politically Correct Bedtime Stories: Modern Ta...</td>\n",
       "      <td>James Finn Garner</td>\n",
       "      <td>1994</td>\n",
       "      <td>John Wiley &amp;amp; Sons Inc</td>\n",
       "      <td>http://images.amazon.com/images/P/002542730X.0...</td>\n",
       "      <td>105</td>\n",
       "    </tr>\n",
       "  </tbody>\n",
       "</table>\n",
       "</div>"
      ],
      "text/plain": [
       "   user_id        ISBN  rating  \\\n",
       "0   276925  002542730X      10   \n",
       "1   277427  002542730X      10   \n",
       "2     3363  002542730X       0   \n",
       "3    10030  002542730X       7   \n",
       "4    11676  002542730X       6   \n",
       "\n",
       "                                               title             author  \\\n",
       "0  Politically Correct Bedtime Stories: Modern Ta...  James Finn Garner   \n",
       "1  Politically Correct Bedtime Stories: Modern Ta...  James Finn Garner   \n",
       "2  Politically Correct Bedtime Stories: Modern Ta...  James Finn Garner   \n",
       "3  Politically Correct Bedtime Stories: Modern Ta...  James Finn Garner   \n",
       "4  Politically Correct Bedtime Stories: Modern Ta...  James Finn Garner   \n",
       "\n",
       "  year release                  publisher  \\\n",
       "0         1994  John Wiley &amp; Sons Inc   \n",
       "1         1994  John Wiley &amp; Sons Inc   \n",
       "2         1994  John Wiley &amp; Sons Inc   \n",
       "3         1994  John Wiley &amp; Sons Inc   \n",
       "4         1994  John Wiley &amp; Sons Inc   \n",
       "\n",
       "                                             img_url  num_of_rating  \n",
       "0  http://images.amazon.com/images/P/002542730X.0...            105  \n",
       "1  http://images.amazon.com/images/P/002542730X.0...            105  \n",
       "2  http://images.amazon.com/images/P/002542730X.0...            105  \n",
       "3  http://images.amazon.com/images/P/002542730X.0...            105  \n",
       "4  http://images.amazon.com/images/P/002542730X.0...            105  "
      ]
     },
     "execution_count": 97,
     "metadata": {},
     "output_type": "execute_result"
    }
   ],
   "source": [
    "final_data = final_rating[final_rating['num_of_rating']>50]\n",
    "final_data.head()"
   ]
  },
  {
   "cell_type": "code",
   "execution_count": 100,
   "id": "2757a4ac",
   "metadata": {},
   "outputs": [
    {
     "name": "stdout",
     "output_type": "stream",
     "text": [
      "Jumlah data pada final_data : 98726\n",
      "Jumlah kolom pada final_data : 9\n"
     ]
    }
   ],
   "source": [
    "print(f'Jumlah data pada final_data : {final_data.shape[0]}')\n",
    "print(f'Jumlah kolom pada final_data : {final_data.shape[1]}')"
   ]
  },
  {
   "cell_type": "markdown",
   "id": "189f3753",
   "metadata": {},
   "source": [
    "**Observation**\n",
    "\n",
    "Dilakukan filtering buku yang memiliki jumlah rating lebih dari 50 karena pada data sebelumnya masih terdapat buku yang hanya memiliki jumlah rating 1 hal ini dapat mempengaruhi akurasi pada Recommender System.\n",
    "\n",
    "Jumlah data menjadi 98726 dengan 9 kolom"
   ]
  },
  {
   "cell_type": "markdown",
   "id": "9ab506d1",
   "metadata": {},
   "source": [
    "# Data Cleaning"
   ]
  },
  {
   "cell_type": "code",
   "execution_count": 103,
   "id": "e29d4da7",
   "metadata": {
    "scrolled": false
   },
   "outputs": [
    {
     "data": {
      "text/html": [
       "<div>\n",
       "<style scoped>\n",
       "    .dataframe tbody tr th:only-of-type {\n",
       "        vertical-align: middle;\n",
       "    }\n",
       "\n",
       "    .dataframe tbody tr th {\n",
       "        vertical-align: top;\n",
       "    }\n",
       "\n",
       "    .dataframe thead th {\n",
       "        text-align: right;\n",
       "    }\n",
       "</style>\n",
       "<table border=\"1\" class=\"dataframe\">\n",
       "  <thead>\n",
       "    <tr style=\"text-align: right;\">\n",
       "      <th></th>\n",
       "      <th>user_id</th>\n",
       "      <th>ISBN</th>\n",
       "      <th>rating</th>\n",
       "      <th>title</th>\n",
       "      <th>author</th>\n",
       "      <th>year release</th>\n",
       "      <th>publisher</th>\n",
       "      <th>img_url</th>\n",
       "      <th>num_of_rating</th>\n",
       "    </tr>\n",
       "  </thead>\n",
       "  <tbody>\n",
       "    <tr>\n",
       "      <th>0</th>\n",
       "      <td>276925</td>\n",
       "      <td>002542730X</td>\n",
       "      <td>10</td>\n",
       "      <td>Politically Correct Bedtime Stories: Modern Ta...</td>\n",
       "      <td>James Finn Garner</td>\n",
       "      <td>1994</td>\n",
       "      <td>John Wiley &amp;amp; Sons Inc</td>\n",
       "      <td>http://images.amazon.com/images/P/002542730X.0...</td>\n",
       "      <td>105</td>\n",
       "    </tr>\n",
       "    <tr>\n",
       "      <th>1</th>\n",
       "      <td>277427</td>\n",
       "      <td>002542730X</td>\n",
       "      <td>10</td>\n",
       "      <td>Politically Correct Bedtime Stories: Modern Ta...</td>\n",
       "      <td>James Finn Garner</td>\n",
       "      <td>1994</td>\n",
       "      <td>John Wiley &amp;amp; Sons Inc</td>\n",
       "      <td>http://images.amazon.com/images/P/002542730X.0...</td>\n",
       "      <td>105</td>\n",
       "    </tr>\n",
       "    <tr>\n",
       "      <th>2</th>\n",
       "      <td>3363</td>\n",
       "      <td>002542730X</td>\n",
       "      <td>0</td>\n",
       "      <td>Politically Correct Bedtime Stories: Modern Ta...</td>\n",
       "      <td>James Finn Garner</td>\n",
       "      <td>1994</td>\n",
       "      <td>John Wiley &amp;amp; Sons Inc</td>\n",
       "      <td>http://images.amazon.com/images/P/002542730X.0...</td>\n",
       "      <td>105</td>\n",
       "    </tr>\n",
       "  </tbody>\n",
       "</table>\n",
       "</div>"
      ],
      "text/plain": [
       "   user_id        ISBN  rating  \\\n",
       "0   276925  002542730X      10   \n",
       "1   277427  002542730X      10   \n",
       "2     3363  002542730X       0   \n",
       "\n",
       "                                               title             author  \\\n",
       "0  Politically Correct Bedtime Stories: Modern Ta...  James Finn Garner   \n",
       "1  Politically Correct Bedtime Stories: Modern Ta...  James Finn Garner   \n",
       "2  Politically Correct Bedtime Stories: Modern Ta...  James Finn Garner   \n",
       "\n",
       "  year release                  publisher  \\\n",
       "0         1994  John Wiley &amp; Sons Inc   \n",
       "1         1994  John Wiley &amp; Sons Inc   \n",
       "2         1994  John Wiley &amp; Sons Inc   \n",
       "\n",
       "                                             img_url  num_of_rating  \n",
       "0  http://images.amazon.com/images/P/002542730X.0...            105  \n",
       "1  http://images.amazon.com/images/P/002542730X.0...            105  \n",
       "2  http://images.amazon.com/images/P/002542730X.0...            105  "
      ]
     },
     "execution_count": 103,
     "metadata": {},
     "output_type": "execute_result"
    }
   ],
   "source": [
    "final_data.head(3)"
   ]
  },
  {
   "cell_type": "markdown",
   "id": "4c44b09f",
   "metadata": {},
   "source": [
    "## Missing Value Handling"
   ]
  },
  {
   "cell_type": "code",
   "execution_count": 101,
   "id": "d2c75aca",
   "metadata": {},
   "outputs": [
    {
     "data": {
      "text/plain": [
       "user_id          0\n",
       "ISBN             0\n",
       "rating           0\n",
       "title            0\n",
       "author           0\n",
       "year release     0\n",
       "publisher        0\n",
       "img_url          0\n",
       "num_of_rating    0\n",
       "dtype: int64"
      ]
     },
     "execution_count": 101,
     "metadata": {},
     "output_type": "execute_result"
    }
   ],
   "source": [
    "final_data.isna().sum()"
   ]
  },
  {
   "cell_type": "markdown",
   "id": "e1982052",
   "metadata": {},
   "source": [
    "**Observation**\n",
    "\n",
    "Tidak terdapat missing value pada final_data"
   ]
  },
  {
   "cell_type": "markdown",
   "id": "3c0aefd5",
   "metadata": {},
   "source": [
    "## Duplicated Handling"
   ]
  },
  {
   "cell_type": "code",
   "execution_count": 105,
   "id": "6de1b100",
   "metadata": {
    "scrolled": true
   },
   "outputs": [
    {
     "data": {
      "text/plain": [
       "2437"
      ]
     },
     "execution_count": 105,
     "metadata": {},
     "output_type": "execute_result"
    }
   ],
   "source": [
    "final_data.duplicated(subset=['user_id','title']).sum()"
   ]
  },
  {
   "cell_type": "markdown",
   "id": "49b11e88",
   "metadata": {},
   "source": [
    "**Observation**\n",
    "\n",
    "Terdapat duplicate value pada final_data sebanyak 2437 oleh karena itu akan dilakukan drop duplicate"
   ]
  },
  {
   "cell_type": "code",
   "execution_count": 106,
   "id": "683cbc4a",
   "metadata": {},
   "outputs": [
    {
     "name": "stdout",
     "output_type": "stream",
     "text": [
      "Jumlah Data sebelum drop duplicated : 98726\n",
      "Jumlah Data setelah drop duplicated : 96289\n"
     ]
    }
   ],
   "source": [
    "print(f'Jumlah Data sebelum drop duplicated : {final_data.shape[0]}')\n",
    "final_data = final_data.drop_duplicates(subset=['user_id','title'])\n",
    "print(f'Jumlah Data setelah drop duplicated : {final_data.shape[0]}')"
   ]
  },
  {
   "cell_type": "markdown",
   "id": "da6cdf0c",
   "metadata": {},
   "source": [
    "# Pivot Table"
   ]
  },
  {
   "cell_type": "code",
   "execution_count": 109,
   "id": "00be91cc",
   "metadata": {},
   "outputs": [
    {
     "data": {
      "text/html": [
       "<div>\n",
       "<style scoped>\n",
       "    .dataframe tbody tr th:only-of-type {\n",
       "        vertical-align: middle;\n",
       "    }\n",
       "\n",
       "    .dataframe tbody tr th {\n",
       "        vertical-align: top;\n",
       "    }\n",
       "\n",
       "    .dataframe thead th {\n",
       "        text-align: right;\n",
       "    }\n",
       "</style>\n",
       "<table border=\"1\" class=\"dataframe\">\n",
       "  <thead>\n",
       "    <tr style=\"text-align: right;\">\n",
       "      <th>user_id</th>\n",
       "      <th>183</th>\n",
       "      <th>254</th>\n",
       "      <th>507</th>\n",
       "      <th>882</th>\n",
       "      <th>1424</th>\n",
       "      <th>1435</th>\n",
       "      <th>1733</th>\n",
       "      <th>1903</th>\n",
       "      <th>2033</th>\n",
       "      <th>2110</th>\n",
       "      <th>...</th>\n",
       "      <th>276018</th>\n",
       "      <th>276463</th>\n",
       "      <th>276680</th>\n",
       "      <th>276925</th>\n",
       "      <th>277427</th>\n",
       "      <th>277478</th>\n",
       "      <th>277639</th>\n",
       "      <th>278137</th>\n",
       "      <th>278188</th>\n",
       "      <th>278418</th>\n",
       "    </tr>\n",
       "    <tr>\n",
       "      <th>title</th>\n",
       "      <th></th>\n",
       "      <th></th>\n",
       "      <th></th>\n",
       "      <th></th>\n",
       "      <th></th>\n",
       "      <th></th>\n",
       "      <th></th>\n",
       "      <th></th>\n",
       "      <th></th>\n",
       "      <th></th>\n",
       "      <th></th>\n",
       "      <th></th>\n",
       "      <th></th>\n",
       "      <th></th>\n",
       "      <th></th>\n",
       "      <th></th>\n",
       "      <th></th>\n",
       "      <th></th>\n",
       "      <th></th>\n",
       "      <th></th>\n",
       "      <th></th>\n",
       "    </tr>\n",
       "  </thead>\n",
       "  <tbody>\n",
       "    <tr>\n",
       "      <th>1984</th>\n",
       "      <td>NaN</td>\n",
       "      <td>9.0</td>\n",
       "      <td>NaN</td>\n",
       "      <td>NaN</td>\n",
       "      <td>NaN</td>\n",
       "      <td>NaN</td>\n",
       "      <td>NaN</td>\n",
       "      <td>NaN</td>\n",
       "      <td>NaN</td>\n",
       "      <td>NaN</td>\n",
       "      <td>...</td>\n",
       "      <td>NaN</td>\n",
       "      <td>NaN</td>\n",
       "      <td>NaN</td>\n",
       "      <td>NaN</td>\n",
       "      <td>NaN</td>\n",
       "      <td>NaN</td>\n",
       "      <td>NaN</td>\n",
       "      <td>NaN</td>\n",
       "      <td>NaN</td>\n",
       "      <td>NaN</td>\n",
       "    </tr>\n",
       "    <tr>\n",
       "      <th>1st to Die: A Novel</th>\n",
       "      <td>NaN</td>\n",
       "      <td>NaN</td>\n",
       "      <td>0.0</td>\n",
       "      <td>NaN</td>\n",
       "      <td>NaN</td>\n",
       "      <td>NaN</td>\n",
       "      <td>NaN</td>\n",
       "      <td>NaN</td>\n",
       "      <td>NaN</td>\n",
       "      <td>NaN</td>\n",
       "      <td>...</td>\n",
       "      <td>NaN</td>\n",
       "      <td>NaN</td>\n",
       "      <td>NaN</td>\n",
       "      <td>NaN</td>\n",
       "      <td>NaN</td>\n",
       "      <td>NaN</td>\n",
       "      <td>NaN</td>\n",
       "      <td>NaN</td>\n",
       "      <td>NaN</td>\n",
       "      <td>NaN</td>\n",
       "    </tr>\n",
       "    <tr>\n",
       "      <th>2010: Odyssey Two</th>\n",
       "      <td>NaN</td>\n",
       "      <td>NaN</td>\n",
       "      <td>NaN</td>\n",
       "      <td>NaN</td>\n",
       "      <td>NaN</td>\n",
       "      <td>NaN</td>\n",
       "      <td>NaN</td>\n",
       "      <td>NaN</td>\n",
       "      <td>NaN</td>\n",
       "      <td>NaN</td>\n",
       "      <td>...</td>\n",
       "      <td>NaN</td>\n",
       "      <td>NaN</td>\n",
       "      <td>NaN</td>\n",
       "      <td>NaN</td>\n",
       "      <td>NaN</td>\n",
       "      <td>NaN</td>\n",
       "      <td>NaN</td>\n",
       "      <td>NaN</td>\n",
       "      <td>NaN</td>\n",
       "      <td>NaN</td>\n",
       "    </tr>\n",
       "    <tr>\n",
       "      <th>24 Hours</th>\n",
       "      <td>NaN</td>\n",
       "      <td>NaN</td>\n",
       "      <td>NaN</td>\n",
       "      <td>NaN</td>\n",
       "      <td>NaN</td>\n",
       "      <td>NaN</td>\n",
       "      <td>NaN</td>\n",
       "      <td>NaN</td>\n",
       "      <td>NaN</td>\n",
       "      <td>NaN</td>\n",
       "      <td>...</td>\n",
       "      <td>NaN</td>\n",
       "      <td>NaN</td>\n",
       "      <td>NaN</td>\n",
       "      <td>NaN</td>\n",
       "      <td>10.0</td>\n",
       "      <td>NaN</td>\n",
       "      <td>NaN</td>\n",
       "      <td>NaN</td>\n",
       "      <td>NaN</td>\n",
       "      <td>NaN</td>\n",
       "    </tr>\n",
       "    <tr>\n",
       "      <th>2nd Chance</th>\n",
       "      <td>NaN</td>\n",
       "      <td>NaN</td>\n",
       "      <td>NaN</td>\n",
       "      <td>NaN</td>\n",
       "      <td>NaN</td>\n",
       "      <td>NaN</td>\n",
       "      <td>NaN</td>\n",
       "      <td>NaN</td>\n",
       "      <td>NaN</td>\n",
       "      <td>NaN</td>\n",
       "      <td>...</td>\n",
       "      <td>NaN</td>\n",
       "      <td>NaN</td>\n",
       "      <td>NaN</td>\n",
       "      <td>NaN</td>\n",
       "      <td>NaN</td>\n",
       "      <td>NaN</td>\n",
       "      <td>0.0</td>\n",
       "      <td>NaN</td>\n",
       "      <td>NaN</td>\n",
       "      <td>NaN</td>\n",
       "    </tr>\n",
       "  </tbody>\n",
       "</table>\n",
       "<p>5 rows × 1793 columns</p>\n",
       "</div>"
      ],
      "text/plain": [
       "user_id              183     254     507     882     1424    1435    1733    \\\n",
       "title                                                                         \n",
       "1984                    NaN     9.0     NaN     NaN     NaN     NaN     NaN   \n",
       "1st to Die: A Novel     NaN     NaN     0.0     NaN     NaN     NaN     NaN   \n",
       "2010: Odyssey Two       NaN     NaN     NaN     NaN     NaN     NaN     NaN   \n",
       "24 Hours                NaN     NaN     NaN     NaN     NaN     NaN     NaN   \n",
       "2nd Chance              NaN     NaN     NaN     NaN     NaN     NaN     NaN   \n",
       "\n",
       "user_id              1903    2033    2110    ...  276018  276463  276680  \\\n",
       "title                                        ...                           \n",
       "1984                    NaN     NaN     NaN  ...     NaN     NaN     NaN   \n",
       "1st to Die: A Novel     NaN     NaN     NaN  ...     NaN     NaN     NaN   \n",
       "2010: Odyssey Two       NaN     NaN     NaN  ...     NaN     NaN     NaN   \n",
       "24 Hours                NaN     NaN     NaN  ...     NaN     NaN     NaN   \n",
       "2nd Chance              NaN     NaN     NaN  ...     NaN     NaN     NaN   \n",
       "\n",
       "user_id              276925  277427  277478  277639  278137  278188  278418  \n",
       "title                                                                        \n",
       "1984                    NaN     NaN     NaN     NaN     NaN     NaN     NaN  \n",
       "1st to Die: A Novel     NaN     NaN     NaN     NaN     NaN     NaN     NaN  \n",
       "2010: Odyssey Two       NaN     NaN     NaN     NaN     NaN     NaN     NaN  \n",
       "24 Hours                NaN    10.0     NaN     NaN     NaN     NaN     NaN  \n",
       "2nd Chance              NaN     NaN     NaN     0.0     NaN     NaN     NaN  \n",
       "\n",
       "[5 rows x 1793 columns]"
      ]
     },
     "execution_count": 109,
     "metadata": {},
     "output_type": "execute_result"
    }
   ],
   "source": [
    "book_pivot = final_data.pivot_table(columns='user_id', index='title', values='rating')\n",
    "book_pivot.head()"
   ]
  },
  {
   "cell_type": "code",
   "execution_count": 110,
   "id": "be12dce7",
   "metadata": {},
   "outputs": [
    {
     "data": {
      "text/html": [
       "<div>\n",
       "<style scoped>\n",
       "    .dataframe tbody tr th:only-of-type {\n",
       "        vertical-align: middle;\n",
       "    }\n",
       "\n",
       "    .dataframe tbody tr th {\n",
       "        vertical-align: top;\n",
       "    }\n",
       "\n",
       "    .dataframe thead th {\n",
       "        text-align: right;\n",
       "    }\n",
       "</style>\n",
       "<table border=\"1\" class=\"dataframe\">\n",
       "  <thead>\n",
       "    <tr style=\"text-align: right;\">\n",
       "      <th>user_id</th>\n",
       "      <th>183</th>\n",
       "      <th>254</th>\n",
       "      <th>507</th>\n",
       "      <th>882</th>\n",
       "      <th>1424</th>\n",
       "      <th>1435</th>\n",
       "      <th>1733</th>\n",
       "      <th>1903</th>\n",
       "      <th>2033</th>\n",
       "      <th>2110</th>\n",
       "      <th>...</th>\n",
       "      <th>276018</th>\n",
       "      <th>276463</th>\n",
       "      <th>276680</th>\n",
       "      <th>276925</th>\n",
       "      <th>277427</th>\n",
       "      <th>277478</th>\n",
       "      <th>277639</th>\n",
       "      <th>278137</th>\n",
       "      <th>278188</th>\n",
       "      <th>278418</th>\n",
       "    </tr>\n",
       "    <tr>\n",
       "      <th>title</th>\n",
       "      <th></th>\n",
       "      <th></th>\n",
       "      <th></th>\n",
       "      <th></th>\n",
       "      <th></th>\n",
       "      <th></th>\n",
       "      <th></th>\n",
       "      <th></th>\n",
       "      <th></th>\n",
       "      <th></th>\n",
       "      <th></th>\n",
       "      <th></th>\n",
       "      <th></th>\n",
       "      <th></th>\n",
       "      <th></th>\n",
       "      <th></th>\n",
       "      <th></th>\n",
       "      <th></th>\n",
       "      <th></th>\n",
       "      <th></th>\n",
       "      <th></th>\n",
       "    </tr>\n",
       "  </thead>\n",
       "  <tbody>\n",
       "    <tr>\n",
       "      <th>1984</th>\n",
       "      <td>0.0</td>\n",
       "      <td>9.0</td>\n",
       "      <td>0.0</td>\n",
       "      <td>0.0</td>\n",
       "      <td>0.0</td>\n",
       "      <td>0.0</td>\n",
       "      <td>0.0</td>\n",
       "      <td>0.0</td>\n",
       "      <td>0.0</td>\n",
       "      <td>0.0</td>\n",
       "      <td>...</td>\n",
       "      <td>0.0</td>\n",
       "      <td>0.0</td>\n",
       "      <td>0.0</td>\n",
       "      <td>0.0</td>\n",
       "      <td>0.0</td>\n",
       "      <td>0.0</td>\n",
       "      <td>0.0</td>\n",
       "      <td>0.0</td>\n",
       "      <td>0.0</td>\n",
       "      <td>0.0</td>\n",
       "    </tr>\n",
       "    <tr>\n",
       "      <th>1st to Die: A Novel</th>\n",
       "      <td>0.0</td>\n",
       "      <td>0.0</td>\n",
       "      <td>0.0</td>\n",
       "      <td>0.0</td>\n",
       "      <td>0.0</td>\n",
       "      <td>0.0</td>\n",
       "      <td>0.0</td>\n",
       "      <td>0.0</td>\n",
       "      <td>0.0</td>\n",
       "      <td>0.0</td>\n",
       "      <td>...</td>\n",
       "      <td>0.0</td>\n",
       "      <td>0.0</td>\n",
       "      <td>0.0</td>\n",
       "      <td>0.0</td>\n",
       "      <td>0.0</td>\n",
       "      <td>0.0</td>\n",
       "      <td>0.0</td>\n",
       "      <td>0.0</td>\n",
       "      <td>0.0</td>\n",
       "      <td>0.0</td>\n",
       "    </tr>\n",
       "    <tr>\n",
       "      <th>2010: Odyssey Two</th>\n",
       "      <td>0.0</td>\n",
       "      <td>0.0</td>\n",
       "      <td>0.0</td>\n",
       "      <td>0.0</td>\n",
       "      <td>0.0</td>\n",
       "      <td>0.0</td>\n",
       "      <td>0.0</td>\n",
       "      <td>0.0</td>\n",
       "      <td>0.0</td>\n",
       "      <td>0.0</td>\n",
       "      <td>...</td>\n",
       "      <td>0.0</td>\n",
       "      <td>0.0</td>\n",
       "      <td>0.0</td>\n",
       "      <td>0.0</td>\n",
       "      <td>0.0</td>\n",
       "      <td>0.0</td>\n",
       "      <td>0.0</td>\n",
       "      <td>0.0</td>\n",
       "      <td>0.0</td>\n",
       "      <td>0.0</td>\n",
       "    </tr>\n",
       "    <tr>\n",
       "      <th>24 Hours</th>\n",
       "      <td>0.0</td>\n",
       "      <td>0.0</td>\n",
       "      <td>0.0</td>\n",
       "      <td>0.0</td>\n",
       "      <td>0.0</td>\n",
       "      <td>0.0</td>\n",
       "      <td>0.0</td>\n",
       "      <td>0.0</td>\n",
       "      <td>0.0</td>\n",
       "      <td>0.0</td>\n",
       "      <td>...</td>\n",
       "      <td>0.0</td>\n",
       "      <td>0.0</td>\n",
       "      <td>0.0</td>\n",
       "      <td>0.0</td>\n",
       "      <td>10.0</td>\n",
       "      <td>0.0</td>\n",
       "      <td>0.0</td>\n",
       "      <td>0.0</td>\n",
       "      <td>0.0</td>\n",
       "      <td>0.0</td>\n",
       "    </tr>\n",
       "    <tr>\n",
       "      <th>2nd Chance</th>\n",
       "      <td>0.0</td>\n",
       "      <td>0.0</td>\n",
       "      <td>0.0</td>\n",
       "      <td>0.0</td>\n",
       "      <td>0.0</td>\n",
       "      <td>0.0</td>\n",
       "      <td>0.0</td>\n",
       "      <td>0.0</td>\n",
       "      <td>0.0</td>\n",
       "      <td>0.0</td>\n",
       "      <td>...</td>\n",
       "      <td>0.0</td>\n",
       "      <td>0.0</td>\n",
       "      <td>0.0</td>\n",
       "      <td>0.0</td>\n",
       "      <td>0.0</td>\n",
       "      <td>0.0</td>\n",
       "      <td>0.0</td>\n",
       "      <td>0.0</td>\n",
       "      <td>0.0</td>\n",
       "      <td>0.0</td>\n",
       "    </tr>\n",
       "  </tbody>\n",
       "</table>\n",
       "<p>5 rows × 1793 columns</p>\n",
       "</div>"
      ],
      "text/plain": [
       "user_id              183     254     507     882     1424    1435    1733    \\\n",
       "title                                                                         \n",
       "1984                    0.0     9.0     0.0     0.0     0.0     0.0     0.0   \n",
       "1st to Die: A Novel     0.0     0.0     0.0     0.0     0.0     0.0     0.0   \n",
       "2010: Odyssey Two       0.0     0.0     0.0     0.0     0.0     0.0     0.0   \n",
       "24 Hours                0.0     0.0     0.0     0.0     0.0     0.0     0.0   \n",
       "2nd Chance              0.0     0.0     0.0     0.0     0.0     0.0     0.0   \n",
       "\n",
       "user_id              1903    2033    2110    ...  276018  276463  276680  \\\n",
       "title                                        ...                           \n",
       "1984                    0.0     0.0     0.0  ...     0.0     0.0     0.0   \n",
       "1st to Die: A Novel     0.0     0.0     0.0  ...     0.0     0.0     0.0   \n",
       "2010: Odyssey Two       0.0     0.0     0.0  ...     0.0     0.0     0.0   \n",
       "24 Hours                0.0     0.0     0.0  ...     0.0     0.0     0.0   \n",
       "2nd Chance              0.0     0.0     0.0  ...     0.0     0.0     0.0   \n",
       "\n",
       "user_id              276925  277427  277478  277639  278137  278188  278418  \n",
       "title                                                                        \n",
       "1984                    0.0     0.0     0.0     0.0     0.0     0.0     0.0  \n",
       "1st to Die: A Novel     0.0     0.0     0.0     0.0     0.0     0.0     0.0  \n",
       "2010: Odyssey Two       0.0     0.0     0.0     0.0     0.0     0.0     0.0  \n",
       "24 Hours                0.0    10.0     0.0     0.0     0.0     0.0     0.0  \n",
       "2nd Chance              0.0     0.0     0.0     0.0     0.0     0.0     0.0  \n",
       "\n",
       "[5 rows x 1793 columns]"
      ]
     },
     "execution_count": 110,
     "metadata": {},
     "output_type": "execute_result"
    }
   ],
   "source": [
    "book_pivot = book_pivot.fillna(0)\n",
    "book_pivot.head()"
   ]
  },
  {
   "cell_type": "markdown",
   "id": "ab5a1316",
   "metadata": {},
   "source": [
    "**Observation**\n",
    "\n",
    "1. Dilakukan pivot table untuk melihat user yang merating buku tersebut\n",
    "2. mengisi nan value dengan nilai 0"
   ]
  },
  {
   "cell_type": "code",
   "execution_count": 111,
   "id": "52b96172",
   "metadata": {},
   "outputs": [],
   "source": [
    "from scipy.sparse import csc_matrix"
   ]
  },
  {
   "cell_type": "code",
   "execution_count": 113,
   "id": "61110e21",
   "metadata": {},
   "outputs": [
    {
     "data": {
      "text/plain": [
       "<1060x1793 sparse matrix of type '<class 'numpy.float64'>'\n",
       "\twith 26439 stored elements in Compressed Sparse Column format>"
      ]
     },
     "execution_count": 113,
     "metadata": {},
     "output_type": "execute_result"
    }
   ],
   "source": [
    "book_sparse = csc_matrix(book_pivot)\n",
    "book_sparse"
   ]
  },
  {
   "cell_type": "markdown",
   "id": "d39ce981",
   "metadata": {},
   "source": [
    "# Modeling"
   ]
  },
  {
   "cell_type": "markdown",
   "id": "900de620",
   "metadata": {},
   "source": [
    "## Train Model"
   ]
  },
  {
   "cell_type": "code",
   "execution_count": 116,
   "id": "b5f98e02",
   "metadata": {},
   "outputs": [],
   "source": [
    "from sklearn.neighbors import NearestNeighbors\n",
    "model = NearestNeighbors(algorithm='brute')"
   ]
  },
  {
   "cell_type": "code",
   "execution_count": 117,
   "id": "92e5db5a",
   "metadata": {},
   "outputs": [
    {
     "data": {
      "text/html": [
       "<style>#sk-container-id-1 {color: black;background-color: white;}#sk-container-id-1 pre{padding: 0;}#sk-container-id-1 div.sk-toggleable {background-color: white;}#sk-container-id-1 label.sk-toggleable__label {cursor: pointer;display: block;width: 100%;margin-bottom: 0;padding: 0.3em;box-sizing: border-box;text-align: center;}#sk-container-id-1 label.sk-toggleable__label-arrow:before {content: \"▸\";float: left;margin-right: 0.25em;color: #696969;}#sk-container-id-1 label.sk-toggleable__label-arrow:hover:before {color: black;}#sk-container-id-1 div.sk-estimator:hover label.sk-toggleable__label-arrow:before {color: black;}#sk-container-id-1 div.sk-toggleable__content {max-height: 0;max-width: 0;overflow: hidden;text-align: left;background-color: #f0f8ff;}#sk-container-id-1 div.sk-toggleable__content pre {margin: 0.2em;color: black;border-radius: 0.25em;background-color: #f0f8ff;}#sk-container-id-1 input.sk-toggleable__control:checked~div.sk-toggleable__content {max-height: 200px;max-width: 100%;overflow: auto;}#sk-container-id-1 input.sk-toggleable__control:checked~label.sk-toggleable__label-arrow:before {content: \"▾\";}#sk-container-id-1 div.sk-estimator input.sk-toggleable__control:checked~label.sk-toggleable__label {background-color: #d4ebff;}#sk-container-id-1 div.sk-label input.sk-toggleable__control:checked~label.sk-toggleable__label {background-color: #d4ebff;}#sk-container-id-1 input.sk-hidden--visually {border: 0;clip: rect(1px 1px 1px 1px);clip: rect(1px, 1px, 1px, 1px);height: 1px;margin: -1px;overflow: hidden;padding: 0;position: absolute;width: 1px;}#sk-container-id-1 div.sk-estimator {font-family: monospace;background-color: #f0f8ff;border: 1px dotted black;border-radius: 0.25em;box-sizing: border-box;margin-bottom: 0.5em;}#sk-container-id-1 div.sk-estimator:hover {background-color: #d4ebff;}#sk-container-id-1 div.sk-parallel-item::after {content: \"\";width: 100%;border-bottom: 1px solid gray;flex-grow: 1;}#sk-container-id-1 div.sk-label:hover label.sk-toggleable__label {background-color: #d4ebff;}#sk-container-id-1 div.sk-serial::before {content: \"\";position: absolute;border-left: 1px solid gray;box-sizing: border-box;top: 0;bottom: 0;left: 50%;z-index: 0;}#sk-container-id-1 div.sk-serial {display: flex;flex-direction: column;align-items: center;background-color: white;padding-right: 0.2em;padding-left: 0.2em;position: relative;}#sk-container-id-1 div.sk-item {position: relative;z-index: 1;}#sk-container-id-1 div.sk-parallel {display: flex;align-items: stretch;justify-content: center;background-color: white;position: relative;}#sk-container-id-1 div.sk-item::before, #sk-container-id-1 div.sk-parallel-item::before {content: \"\";position: absolute;border-left: 1px solid gray;box-sizing: border-box;top: 0;bottom: 0;left: 50%;z-index: -1;}#sk-container-id-1 div.sk-parallel-item {display: flex;flex-direction: column;z-index: 1;position: relative;background-color: white;}#sk-container-id-1 div.sk-parallel-item:first-child::after {align-self: flex-end;width: 50%;}#sk-container-id-1 div.sk-parallel-item:last-child::after {align-self: flex-start;width: 50%;}#sk-container-id-1 div.sk-parallel-item:only-child::after {width: 0;}#sk-container-id-1 div.sk-dashed-wrapped {border: 1px dashed gray;margin: 0 0.4em 0.5em 0.4em;box-sizing: border-box;padding-bottom: 0.4em;background-color: white;}#sk-container-id-1 div.sk-label label {font-family: monospace;font-weight: bold;display: inline-block;line-height: 1.2em;}#sk-container-id-1 div.sk-label-container {text-align: center;}#sk-container-id-1 div.sk-container {/* jupyter's `normalize.less` sets `[hidden] { display: none; }` but bootstrap.min.css set `[hidden] { display: none !important; }` so we also need the `!important` here to be able to override the default hidden behavior on the sphinx rendered scikit-learn.org. See: https://github.com/scikit-learn/scikit-learn/issues/21755 */display: inline-block !important;position: relative;}#sk-container-id-1 div.sk-text-repr-fallback {display: none;}</style><div id=\"sk-container-id-1\" class=\"sk-top-container\"><div class=\"sk-text-repr-fallback\"><pre>NearestNeighbors(algorithm=&#x27;brute&#x27;)</pre><b>In a Jupyter environment, please rerun this cell to show the HTML representation or trust the notebook. <br />On GitHub, the HTML representation is unable to render, please try loading this page with nbviewer.org.</b></div><div class=\"sk-container\" hidden><div class=\"sk-item\"><div class=\"sk-estimator sk-toggleable\"><input class=\"sk-toggleable__control sk-hidden--visually\" id=\"sk-estimator-id-1\" type=\"checkbox\" checked><label for=\"sk-estimator-id-1\" class=\"sk-toggleable__label sk-toggleable__label-arrow\">NearestNeighbors</label><div class=\"sk-toggleable__content\"><pre>NearestNeighbors(algorithm=&#x27;brute&#x27;)</pre></div></div></div></div></div>"
      ],
      "text/plain": [
       "NearestNeighbors(algorithm='brute')"
      ]
     },
     "execution_count": 117,
     "metadata": {},
     "output_type": "execute_result"
    }
   ],
   "source": [
    "model.fit(book_sparse)"
   ]
  },
  {
   "cell_type": "code",
   "execution_count": 153,
   "id": "696d77d6",
   "metadata": {},
   "outputs": [],
   "source": [
    "distance, suggestion = model.kneighbors(book_pivot.iloc[329,:].values.reshape(1,-1), n_neighbors=6)"
   ]
  },
  {
   "cell_type": "markdown",
   "id": "6147933d",
   "metadata": {},
   "source": [
    "## Evaluation Model"
   ]
  },
  {
   "cell_type": "code",
   "execution_count": 154,
   "id": "409aab4d",
   "metadata": {
    "scrolled": true
   },
   "outputs": [
    {
     "data": {
      "text/plain": [
       "array([[ 0.        , 85.08231309, 86.48699324, 90.98901033, 98.79777325,\n",
       "        99.05553998]])"
      ]
     },
     "execution_count": 154,
     "metadata": {},
     "output_type": "execute_result"
    }
   ],
   "source": [
    "distance"
   ]
  },
  {
   "cell_type": "code",
   "execution_count": 155,
   "id": "f1c93d0e",
   "metadata": {},
   "outputs": [
    {
     "data": {
      "text/plain": [
       "array([[329, 330, 332, 333, 847, 852]], dtype=int64)"
      ]
     },
     "execution_count": 155,
     "metadata": {},
     "output_type": "execute_result"
    }
   ],
   "source": [
    "suggestion"
   ]
  },
  {
   "cell_type": "code",
   "execution_count": 156,
   "id": "7d6ad55b",
   "metadata": {
    "scrolled": true
   },
   "outputs": [
    {
     "name": "stdout",
     "output_type": "stream",
     "text": [
      "Index(['Harry Potter and the Chamber of Secrets (Book 2)',\n",
      "       'Harry Potter and the Goblet of Fire (Book 4)',\n",
      "       'Harry Potter and the Prisoner of Azkaban (Book 3)',\n",
      "       'Harry Potter and the Sorcerer's Stone (Book 1)',\n",
      "       'The Klone and I: A High-Tech Love Story', 'The Laws of Our Fathers'],\n",
      "      dtype='object', name='title')\n"
     ]
    }
   ],
   "source": [
    "for i in range(len(suggestion)):\n",
    "    print(book_pivot.index[suggestion[i]])"
   ]
  },
  {
   "cell_type": "code",
   "execution_count": 159,
   "id": "090ba837",
   "metadata": {},
   "outputs": [],
   "source": [
    "#menyimpan book index pada variable book_name\n",
    "book_name = book_pivot.index"
   ]
  },
  {
   "cell_type": "code",
   "execution_count": 160,
   "id": "463b828f",
   "metadata": {},
   "outputs": [],
   "source": [
    "import pickle\n",
    "pickle.dump(model, open('books/model.pkl', 'wb'))\n",
    "pickle.dump(book_name, open('books/book_name.pkl', 'wb'))\n",
    "pickle.dump(final_data, open('books/final_data.pkl', 'wb'))\n",
    "pickle.dump(book_pivot, open('books/book_pivot.pkl', 'wb'))\n"
   ]
  },
  {
   "cell_type": "markdown",
   "id": "9f3a82ff",
   "metadata": {},
   "source": [
    "## Recommend Book Model"
   ]
  },
  {
   "cell_type": "code",
   "execution_count": 167,
   "id": "c387fc5b",
   "metadata": {},
   "outputs": [],
   "source": [
    "def recommend_book(book_name):\n",
    "    book_id = np.where(book_pivot.index == book_name)[0][0]\n",
    "    distance, suggestion = model.kneighbors(book_pivot.iloc[book_id,:].values.reshape(1,-1), n_neighbors=6)\n",
    "    \n",
    "    for i in range(len(suggestion)):\n",
    "        books = book_pivot.index[suggestion[i]]\n",
    "        for j in books:\n",
    "            print(j)"
   ]
  },
  {
   "cell_type": "code",
   "execution_count": 170,
   "id": "4981aeb7",
   "metadata": {},
   "outputs": [
    {
     "name": "stdout",
     "output_type": "stream",
     "text": [
      "Harry Potter and the Chamber of Secrets (Book 2)\n",
      "Harry Potter and the Goblet of Fire (Book 4)\n",
      "Harry Potter and the Prisoner of Azkaban (Book 3)\n",
      "Harry Potter and the Sorcerer's Stone (Book 1)\n",
      "The Klone and I: A High-Tech Love Story\n",
      "The Laws of Our Fathers\n"
     ]
    }
   ],
   "source": [
    "book_name = 'Harry Potter and the Chamber of Secrets (Book 2)'\n",
    "recommend_book(book_name)"
   ]
  }
 ],
 "metadata": {
  "kernelspec": {
   "display_name": "Python 3 (ipykernel)",
   "language": "python",
   "name": "python3"
  },
  "language_info": {
   "codemirror_mode": {
    "name": "ipython",
    "version": 3
   },
   "file_extension": ".py",
   "mimetype": "text/x-python",
   "name": "python",
   "nbconvert_exporter": "python",
   "pygments_lexer": "ipython3",
   "version": "3.11.3"
  },
  "toc": {
   "base_numbering": 1,
   "nav_menu": {},
   "number_sections": true,
   "sideBar": true,
   "skip_h1_title": false,
   "title_cell": "Table of Contents",
   "title_sidebar": "Contents",
   "toc_cell": false,
   "toc_position": {
    "height": "calc(100% - 180px)",
    "left": "10px",
    "top": "150px",
    "width": "227.225px"
   },
   "toc_section_display": true,
   "toc_window_display": true
  }
 },
 "nbformat": 4,
 "nbformat_minor": 5
}
